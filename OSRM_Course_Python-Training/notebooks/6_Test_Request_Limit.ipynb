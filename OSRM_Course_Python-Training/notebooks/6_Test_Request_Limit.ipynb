{
 "cells": [
  {
   "cell_type": "markdown",
   "metadata": {},
   "source": [
    "## OSRM (Open Source Routing Machine)\n",
    "\n",
    "**Author**: SADDIK Imad\n",
    "<br/>\n",
    "**Date**: 02/01/2025\n",
    "\n",
    "---"
   ]
  },
  {
   "cell_type": "markdown",
   "metadata": {},
   "source": [
    "In this notebook, I will demonstrate how to modify the maximum size of points that can be fed into each service, reusing code from the match service notebook."
   ]
  },
  {
   "cell_type": "code",
   "execution_count": 3,
   "metadata": {},
   "outputs": [],
   "source": [
    "from pydantic import BaseModel\n",
    "\n",
    "\n",
    "class Point(BaseModel):\n",
    "    latitude: float\n",
    "    longitude: float\n",
    "    timestamp: int  # Unix timestamp"
   ]
  },
  {
   "cell_type": "markdown",
   "metadata": {},
   "source": [
    "By default, the maximum limit is set to 100 points. However, this `GPX` file contains 1420 points, which exceeds the limit. To proceed, we can either process 100 points at a time or, preferably, increase the maximum limit."
   ]
  },
  {
   "cell_type": "code",
   "execution_count": 4,
   "metadata": {},
   "outputs": [
    {
     "data": {
      "text/plain": [
       "1420"
      ]
     },
     "execution_count": 4,
     "metadata": {},
     "output_type": "execute_result"
    }
   ],
   "source": [
    "import xml.etree.ElementTree as ET\n",
    "from datetime import datetime\n",
    "\n",
    "\n",
    "def parse_gpx_and_extract_points(file_path: str) -> list[Point]:\n",
    "    # Parse the XML file into a tree structure\n",
    "    tree = ET.parse(file_path)\n",
    "    root = tree.getroot()\n",
    "\n",
    "    # Define namespace mapping for GPX 1.1 schema\n",
    "    ns = {\"default\": \"http://www.topografix.com/GPX/1/1\"}\n",
    "\n",
    "    points = []\n",
    "    for trkpt in root.findall(\".//default:trkpt\", ns):\n",
    "        lat = float(trkpt.attrib[\"lat\"])\n",
    "        lon = float(trkpt.attrib[\"lon\"])\n",
    "\n",
    "        # Convert ISO 8601 timestamp (removing Z and adding UTC offset) to Unix timestamp\n",
    "        time_str = trkpt.find(\"default:time\", ns).text\n",
    "        timestamp = int(datetime.fromisoformat(\n",
    "            time_str.replace(\"Z\", \"+00:00\")).timestamp())\n",
    "\n",
    "        points.append(Point(latitude=lat, longitude=lon, timestamp=timestamp))\n",
    "\n",
    "    return points\n",
    "\n",
    "\n",
    "file_path = \"../data/gps_trace.gpx\"\n",
    "points = parse_gpx_and_extract_points(file_path)\n",
    "len(points)"
   ]
  },
  {
   "cell_type": "code",
   "execution_count": null,
   "metadata": {},
   "outputs": [],
   "source": [
    "import requests\n",
    "\n",
    "service = 'match'\n",
    "version = 'v1'\n",
    "profile = 'driving'\n",
    "host = 'http://localhost:5000'\n",
    "\n",
    "max_points_to_use = len(points)\n",
    "points_portion = points[:max_points_to_use]\n",
    "coordinates = \";\".join(\n",
    "    [f\"{point.longitude},{point.latitude}\" for point in points_portion])\n",
    "timestamps = \";\".join([str(point.timestamp)\n",
    "                       for point in points_portion])\n",
    "\n",
    "url = f\"{host}/{service}/{version}/{profile}/{coordinates}\"\n",
    "params = {\n",
    "    \"steps\": \"true\",\n",
    "    \"geometries\": \"geojson\",\n",
    "    \"overview\": \"full\",\n",
    "    \"annotations\": \"true\",\n",
    "    \"timestamps\": timestamps\n",
    "}\n",
    "\n",
    "response = requests.get(url, params=params)\n",
    "response.json()"
   ]
  }
 ],
 "metadata": {
  "kernelspec": {
   "display_name": "vehicle_routing_problem",
   "language": "python",
   "name": "python3"
  },
  "language_info": {
   "codemirror_mode": {
    "name": "ipython",
    "version": 3
   },
   "file_extension": ".py",
   "mimetype": "text/x-python",
   "name": "python",
   "nbconvert_exporter": "python",
   "pygments_lexer": "ipython3",
   "version": "3.12.7"
  }
 },
 "nbformat": 4,
 "nbformat_minor": 2
}
