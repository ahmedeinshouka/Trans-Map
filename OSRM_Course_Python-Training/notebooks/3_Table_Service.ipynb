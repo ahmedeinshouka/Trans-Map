{
 "cells": [
  {
   "cell_type": "markdown",
   "metadata": {},
   "source": [
    "## OSRM (Open Source Routing Machine)\n",
    "\n",
    "**Author**: SADDIK Imad\n",
    "<br/>\n",
    "**Date**: 28/12/2024\n",
    "\n",
    "---"
   ]
  },
  {
   "cell_type": "markdown",
   "metadata": {},
   "source": [
    "**Table of contents**<a id='toc0_'></a>    \n",
    "- [Table service](#toc1_)    \n",
    "  - [Setup](#toc1_1_)    \n",
    "  - [Using the service](#toc1_2_)    \n",
    "    - [General options](#toc1_2_1_)    \n",
    "    - [Making the request](#toc1_2_2_)    \n",
    "      - [No source & no destination](#toc1_2_2_1_)    \n",
    "      - [With source & no destination](#toc1_2_2_2_)    \n",
    "      - [No source & With destination](#toc1_2_2_3_)    \n",
    "      - [With source & With destination](#toc1_2_2_4_)    "
   ]
  },
  {
   "cell_type": "markdown",
   "metadata": {},
   "source": [
    "---"
   ]
  },
  {
   "cell_type": "markdown",
   "metadata": {},
   "source": [
    "# <a id='toc1_'></a>[Table service](#toc0_)"
   ]
  },
  {
   "cell_type": "markdown",
   "metadata": {},
   "source": [
    "Use this service if you want to computes the duration of the fastest route between all pairs of coordinates. Read more about it [here](https://project-osrm.org/docs/v5.24.0/api/?language=cURL#table-service)."
   ]
  },
  {
   "cell_type": "markdown",
   "metadata": {},
   "source": [
    "## <a id='toc1_1_'></a>[Setup](#toc0_)"
   ]
  },
  {
   "cell_type": "markdown",
   "metadata": {},
   "source": [
    "I selected four points from the map, designating one as the center. Using the `Folium` package, I will visualize these points on the map."
   ]
  },
  {
   "cell_type": "code",
   "execution_count": null,
   "metadata": {},
   "outputs": [
    {
     "data": {
      "text/html": [
       "<div style=\"width:100%;\"><div style=\"position:relative;width:100%;height:0;padding-bottom:60%;\"><span style=\"color:#565656\">Make this Notebook Trusted to load map: File -> Trust Notebook</span><iframe srcdoc=\"&lt;!DOCTYPE html&gt;\n",
       "&lt;html&gt;\n",
       "&lt;head&gt;\n",
       "    \n",
       "    &lt;meta http-equiv=&quot;content-type&quot; content=&quot;text/html; charset=UTF-8&quot; /&gt;\n",
       "    \n",
       "        &lt;script&gt;\n",
       "            L_NO_TOUCH = false;\n",
       "            L_DISABLE_3D = false;\n",
       "        &lt;/script&gt;\n",
       "    \n",
       "    &lt;style&gt;html, body {width: 100%;height: 100%;margin: 0;padding: 0;}&lt;/style&gt;\n",
       "    &lt;style&gt;#map {position:absolute;top:0;bottom:0;right:0;left:0;}&lt;/style&gt;\n",
       "    &lt;script src=&quot;https://cdn.jsdelivr.net/npm/leaflet@1.9.3/dist/leaflet.js&quot;&gt;&lt;/script&gt;\n",
       "    &lt;script src=&quot;https://code.jquery.com/jquery-3.7.1.min.js&quot;&gt;&lt;/script&gt;\n",
       "    &lt;script src=&quot;https://cdn.jsdelivr.net/npm/bootstrap@5.2.2/dist/js/bootstrap.bundle.min.js&quot;&gt;&lt;/script&gt;\n",
       "    &lt;script src=&quot;https://cdnjs.cloudflare.com/ajax/libs/Leaflet.awesome-markers/2.0.2/leaflet.awesome-markers.js&quot;&gt;&lt;/script&gt;\n",
       "    &lt;link rel=&quot;stylesheet&quot; href=&quot;https://cdn.jsdelivr.net/npm/leaflet@1.9.3/dist/leaflet.css&quot;/&gt;\n",
       "    &lt;link rel=&quot;stylesheet&quot; href=&quot;https://cdn.jsdelivr.net/npm/bootstrap@5.2.2/dist/css/bootstrap.min.css&quot;/&gt;\n",
       "    &lt;link rel=&quot;stylesheet&quot; href=&quot;https://netdna.bootstrapcdn.com/bootstrap/3.0.0/css/bootstrap-glyphicons.css&quot;/&gt;\n",
       "    &lt;link rel=&quot;stylesheet&quot; href=&quot;https://cdn.jsdelivr.net/npm/@fortawesome/fontawesome-free@6.2.0/css/all.min.css&quot;/&gt;\n",
       "    &lt;link rel=&quot;stylesheet&quot; href=&quot;https://cdnjs.cloudflare.com/ajax/libs/Leaflet.awesome-markers/2.0.2/leaflet.awesome-markers.css&quot;/&gt;\n",
       "    &lt;link rel=&quot;stylesheet&quot; href=&quot;https://cdn.jsdelivr.net/gh/python-visualization/folium/folium/templates/leaflet.awesome.rotate.min.css&quot;/&gt;\n",
       "    \n",
       "            &lt;meta name=&quot;viewport&quot; content=&quot;width=device-width,\n",
       "                initial-scale=1.0, maximum-scale=1.0, user-scalable=no&quot; /&gt;\n",
       "            &lt;style&gt;\n",
       "                #map_e014c6d6952b0ba1e90b2d9ffffd5058 {\n",
       "                    position: relative;\n",
       "                    width: 100.0%;\n",
       "                    height: 100.0%;\n",
       "                    left: 0.0%;\n",
       "                    top: 0.0%;\n",
       "                }\n",
       "                .leaflet-container { font-size: 1rem; }\n",
       "            &lt;/style&gt;\n",
       "        \n",
       "&lt;/head&gt;\n",
       "&lt;body&gt;\n",
       "    \n",
       "    \n",
       "            &lt;div class=&quot;folium-map&quot; id=&quot;map_e014c6d6952b0ba1e90b2d9ffffd5058&quot; &gt;&lt;/div&gt;\n",
       "        \n",
       "&lt;/body&gt;\n",
       "&lt;script&gt;\n",
       "    \n",
       "    \n",
       "            var map_e014c6d6952b0ba1e90b2d9ffffd5058 = L.map(\n",
       "                &quot;map_e014c6d6952b0ba1e90b2d9ffffd5058&quot;,\n",
       "                {\n",
       "                    center: [33.89565560255, -5.522530349727877],\n",
       "                    crs: L.CRS.EPSG3857,\n",
       "                    zoom: 14,\n",
       "                    zoomControl: true,\n",
       "                    preferCanvas: false,\n",
       "                }\n",
       "            );\n",
       "\n",
       "            \n",
       "\n",
       "        \n",
       "    \n",
       "            var tile_layer_aa695cc927510dcb694d25e473ee7f7b = L.tileLayer(\n",
       "                &quot;https://tile.openstreetmap.org/{z}/{x}/{y}.png&quot;,\n",
       "                {&quot;attribution&quot;: &quot;\\u0026copy; \\u003ca href=\\&quot;https://www.openstreetmap.org/copyright\\&quot;\\u003eOpenStreetMap\\u003c/a\\u003e contributors&quot;, &quot;detectRetina&quot;: false, &quot;maxNativeZoom&quot;: 19, &quot;maxZoom&quot;: 19, &quot;minZoom&quot;: 0, &quot;noWrap&quot;: false, &quot;opacity&quot;: 1, &quot;subdomains&quot;: &quot;abc&quot;, &quot;tms&quot;: false}\n",
       "            );\n",
       "        \n",
       "    \n",
       "            tile_layer_aa695cc927510dcb694d25e473ee7f7b.addTo(map_e014c6d6952b0ba1e90b2d9ffffd5058);\n",
       "        \n",
       "    \n",
       "            var marker_53e98410a69e382fa1834eca95558e76 = L.marker(\n",
       "                [33.89264295626195, -5.500305816538693],\n",
       "                {}\n",
       "            ).addTo(map_e014c6d6952b0ba1e90b2d9ffffd5058);\n",
       "        \n",
       "    \n",
       "        var popup_f10a353cc889421e8b9a3ce8c3a9bad5 = L.popup({&quot;maxWidth&quot;: &quot;100%&quot;});\n",
       "\n",
       "        \n",
       "            \n",
       "                var html_193c72b0ac1ddf5b4c7e4ff0bd124996 = $(`&lt;div id=&quot;html_193c72b0ac1ddf5b4c7e4ff0bd124996&quot; style=&quot;width: 100.0%; height: 100.0%;&quot;&gt;Point&lt;/div&gt;`)[0];\n",
       "                popup_f10a353cc889421e8b9a3ce8c3a9bad5.setContent(html_193c72b0ac1ddf5b4c7e4ff0bd124996);\n",
       "            \n",
       "        \n",
       "\n",
       "        marker_53e98410a69e382fa1834eca95558e76.bindPopup(popup_f10a353cc889421e8b9a3ce8c3a9bad5)\n",
       "        ;\n",
       "\n",
       "        \n",
       "    \n",
       "    \n",
       "            var marker_a5f3e64338fedb4478309a3c56a303b5 = L.marker(\n",
       "                [33.899915132942326, -5.520818749583605],\n",
       "                {}\n",
       "            ).addTo(map_e014c6d6952b0ba1e90b2d9ffffd5058);\n",
       "        \n",
       "    \n",
       "        var popup_5954c46b36dd9c4a410a70c0e5cf5dc2 = L.popup({&quot;maxWidth&quot;: &quot;100%&quot;});\n",
       "\n",
       "        \n",
       "            \n",
       "                var html_9f9e6f04451dfe307bafc6dc72bb4650 = $(`&lt;div id=&quot;html_9f9e6f04451dfe307bafc6dc72bb4650&quot; style=&quot;width: 100.0%; height: 100.0%;&quot;&gt;Point&lt;/div&gt;`)[0];\n",
       "                popup_5954c46b36dd9c4a410a70c0e5cf5dc2.setContent(html_9f9e6f04451dfe307bafc6dc72bb4650);\n",
       "            \n",
       "        \n",
       "\n",
       "        marker_a5f3e64338fedb4478309a3c56a303b5.bindPopup(popup_5954c46b36dd9c4a410a70c0e5cf5dc2)\n",
       "        ;\n",
       "\n",
       "        \n",
       "    \n",
       "    \n",
       "            var marker_07b22551a192ba72ab97c7b120adbfec = L.marker(\n",
       "                [33.891645357611154, -5.5397637571355105],\n",
       "                {}\n",
       "            ).addTo(map_e014c6d6952b0ba1e90b2d9ffffd5058);\n",
       "        \n",
       "    \n",
       "        var popup_e4ae0ce4431e563413fe231340826aad = L.popup({&quot;maxWidth&quot;: &quot;100%&quot;});\n",
       "\n",
       "        \n",
       "            \n",
       "                var html_4e3133d2b050879e1ccf98ded0ed2278 = $(`&lt;div id=&quot;html_4e3133d2b050879e1ccf98ded0ed2278&quot; style=&quot;width: 100.0%; height: 100.0%;&quot;&gt;Point&lt;/div&gt;`)[0];\n",
       "                popup_e4ae0ce4431e563413fe231340826aad.setContent(html_4e3133d2b050879e1ccf98ded0ed2278);\n",
       "            \n",
       "        \n",
       "\n",
       "        marker_07b22551a192ba72ab97c7b120adbfec.bindPopup(popup_e4ae0ce4431e563413fe231340826aad)\n",
       "        ;\n",
       "\n",
       "        \n",
       "    \n",
       "&lt;/script&gt;\n",
       "&lt;/html&gt;\" style=\"position:absolute;width:100%;height:100%;left:0;top:0;border:none !important;\" allowfullscreen webkitallowfullscreen mozallowfullscreen></iframe></div></div>"
      ],
      "text/plain": [
       "<folium.folium.Map at 0x7e6230607c80>"
      ]
     },
     "execution_count": 17,
     "metadata": {},
     "output_type": "execute_result"
    }
   ],
   "source": [
    "import folium\n",
    "\n",
    "from folium import Map\n",
    "from pydantic import BaseModel\n",
    "\n",
    "\n",
    "class Point(BaseModel):\n",
    "    latitude: float\n",
    "    longitude: float\n",
    "\n",
    "\n",
    "def get_folium_map(center_point: Point, points: list[Point], zoom_level: int = 14) -> Map:\n",
    "    folium_map = folium.Map(\n",
    "        location=[center_point.latitude, center_point.longitude], zoom_start=zoom_level)\n",
    "\n",
    "    for point in points:\n",
    "        folium.Marker(location=[point.latitude, point.longitude],\n",
    "                      popup='Point').add_to(folium_map)\n",
    "\n",
    "    return folium_map\n",
    "\n",
    "\n",
    "point_1 = Point(latitude=33.89264295626195, longitude=-5.500305816538693)\n",
    "point_2 = Point(latitude=33.899915132942326, longitude=-5.520818749583605)\n",
    "point_3 = Point(latitude=33.891645357611154, longitude=-5.5397637571355105)\n",
    "center_point = Point(latitude=33.89565560255, longitude=-5.522530349727877)\n",
    "\n",
    "folium_map = get_folium_map(center_point, [point_1, point_2, point_3])\n",
    "folium_map"
   ]
  },
  {
   "cell_type": "markdown",
   "metadata": {},
   "source": [
    "## <a id='toc1_2_'></a>[Using the service](#toc0_)"
   ]
  },
  {
   "cell_type": "markdown",
   "metadata": {},
   "source": [
    "### <a id='toc1_2_1_'></a>[General options](#toc0_)"
   ]
  },
  {
   "cell_type": "markdown",
   "metadata": {},
   "source": [
    "The general options are used in every OSRM service, read more about them [here](https://project-osrm.org/docs/v5.5.1/api/?language=cURL#general-options). Here is a table that summarizes the options with their description.\n",
    "\n",
    "\n",
    "| Parameter | Description |\n",
    "|-----------|-------------|\n",
    "| service | One of the following values: `route`, `nearest`, `table`, `match`, `trip`, `tile` |\n",
    "| version | Version of the protocol implemented by the service. `v1` for all OSRM 5.x installations |\n",
    "| profile | Mode of transportation, is determined statically by the Lua profile that is used to prepare the data using `osrm-extract`. Typically `car`, `bike` or `foot` if using one of the supplied profiles. |\n",
    "| coordinates | String of format `{longitude},{latitude};{longitude},{latitude};{longitude},{latitude} ...]` or `polyline({polyline})`. |\n",
    "| format | Only `json` is supported at the moment. This parameter is optional and defaults to `json`. |"
   ]
  },
  {
   "cell_type": "markdown",
   "metadata": {},
   "source": [
    "### <a id='toc1_2_2_'></a>[Making the request](#toc0_)"
   ]
  },
  {
   "cell_type": "markdown",
   "metadata": {},
   "source": [
    "The table endpoint follows this format: `/table/v1/{profile}/{coordinates}?{sources}=[{elem}...];&destinations=[{elem}...]`.\n",
    "\n",
    "The endpoint computes the duration of the fastest route between all pairs of supplied coordinates."
   ]
  },
  {
   "cell_type": "markdown",
   "metadata": {},
   "source": [
    "#### <a id='toc1_2_2_1_'></a>[No source & no destination](#toc0_)"
   ]
  },
  {
   "cell_type": "code",
   "execution_count": 18,
   "metadata": {},
   "outputs": [],
   "source": [
    "service = 'table'\n",
    "version = 'v1'\n",
    "profile = 'driving'\n",
    "host = 'http://localhost:5000'"
   ]
  },
  {
   "cell_type": "code",
   "execution_count": 19,
   "metadata": {},
   "outputs": [
    {
     "data": {
      "text/plain": [
       "200"
      ]
     },
     "execution_count": 19,
     "metadata": {},
     "output_type": "execute_result"
    }
   ],
   "source": [
    "import requests\n",
    "\n",
    "points = [point_1, point_2, point_3]\n",
    "coordinates = ';'.join(\n",
    "    [f'{point.longitude},{point.latitude}' for point in points])\n",
    "\n",
    "url = f\"{host}/{service}/{version}/{profile}/{coordinates}\"\n",
    "\n",
    "response = requests.get(url)\n",
    "response.status_code"
   ]
  },
  {
   "cell_type": "markdown",
   "metadata": {},
   "source": [
    "The `200` status code signifies that the request was successful. Now, let's fetch the route and display it on the map."
   ]
  },
  {
   "cell_type": "code",
   "execution_count": 20,
   "metadata": {},
   "outputs": [
    {
     "data": {
      "text/plain": [
       "dict_keys(['code', 'destinations', 'durations', 'sources'])"
      ]
     },
     "execution_count": 20,
     "metadata": {},
     "output_type": "execute_result"
    }
   ],
   "source": [
    "data = response.json()\n",
    "data.keys()"
   ]
  },
  {
   "cell_type": "markdown",
   "metadata": {},
   "source": [
    "By default, if `sources` and `destinations` are not specified, the `table` service returns the duration for all possible combinations. For example, with 3 points, this results in a 3x3 matrix, totaling 9 combinations."
   ]
  },
  {
   "cell_type": "code",
   "execution_count": 24,
   "metadata": {},
   "outputs": [
    {
     "name": "stdout",
     "output_type": "stream",
     "text": [
      "[[0, 218.9, 300.5], [254.9, 0, 246.3], [303, 302.1, 0]]\n"
     ]
    }
   ],
   "source": [
    "print(data[\"durations\"])"
   ]
  },
  {
   "cell_type": "markdown",
   "metadata": {},
   "source": [
    "The table represents the duration matrix for traveling between three points. The rows indicate the **source** points, and the columns indicate the **destination** points. The value in each cell is the travel duration between the corresponding source and destination. When the source and destination are the same, the duration is 0.\n",
    "\n",
    "| Source \\ Destination | Point 1 | Point 2 | Point 3 |\n",
    "|-----------------------|---------|---------|---------|\n",
    "| **Point 1**          | 0       | 218.9   | 300.5   |\n",
    "| **Point 2**          | 254.9   | 0       | 246.3   |\n",
    "| **Point 3**          | 303     | 302.1   | 0       |\n"
   ]
  },
  {
   "cell_type": "markdown",
   "metadata": {},
   "source": [
    "#### <a id='toc1_2_2_2_'></a>[With source & no destination](#toc0_)"
   ]
  },
  {
   "cell_type": "markdown",
   "metadata": {},
   "source": [
    "We can add the `sources` option to the table endpoint to force the engine to use that point as the starting point while the rest as the destinations."
   ]
  },
  {
   "cell_type": "code",
   "execution_count": 25,
   "metadata": {},
   "outputs": [
    {
     "data": {
      "text/plain": [
       "200"
      ]
     },
     "execution_count": 25,
     "metadata": {},
     "output_type": "execute_result"
    }
   ],
   "source": [
    "import requests\n",
    "\n",
    "points = [point_1, point_2, point_3]\n",
    "coordinates = ';'.join(\n",
    "    [f'{point.longitude},{point.latitude}' for point in points])\n",
    "\n",
    "url = f\"{host}/{service}/{version}/{profile}/{coordinates}?sources=0\"\n",
    "\n",
    "response = requests.get(url)\n",
    "response.status_code"
   ]
  },
  {
   "cell_type": "markdown",
   "metadata": {},
   "source": [
    "In this example, we forced the first point to be the source. This yielded a 1x3 matrix."
   ]
  },
  {
   "cell_type": "code",
   "execution_count": 26,
   "metadata": {},
   "outputs": [
    {
     "data": {
      "text/plain": [
       "[[0, 218.9, 300.5]]"
      ]
     },
     "execution_count": 26,
     "metadata": {},
     "output_type": "execute_result"
    }
   ],
   "source": [
    "data = response.json()\n",
    "data[\"durations\"]"
   ]
  },
  {
   "cell_type": "markdown",
   "metadata": {},
   "source": [
    "The table represents the travel duration from **Point 1** (source) to each of the three points (destinations). The rows indicate the **source**, and the columns indicate the **destinations**.\n",
    "\n",
    "| Source \\ Destination | Point 1 | Point 2 | Point 3 |\n",
    "|-----------------------|---------|---------|---------|\n",
    "| **Point 1**          | 0       | 218.9   | 300.5   |"
   ]
  },
  {
   "cell_type": "markdown",
   "metadata": {},
   "source": [
    "#### <a id='toc1_2_2_3_'></a>[No source & With destination](#toc0_)"
   ]
  },
  {
   "cell_type": "markdown",
   "metadata": {},
   "source": [
    "We can also provide the `destinations` option to force the destination instead of the source."
   ]
  },
  {
   "cell_type": "code",
   "execution_count": 28,
   "metadata": {},
   "outputs": [
    {
     "data": {
      "text/plain": [
       "200"
      ]
     },
     "execution_count": 28,
     "metadata": {},
     "output_type": "execute_result"
    }
   ],
   "source": [
    "import requests\n",
    "\n",
    "points = [point_1, point_2, point_3]\n",
    "coordinates = ';'.join(\n",
    "    [f'{point.longitude},{point.latitude}' for point in points])\n",
    "\n",
    "url = f\"{host}/{service}/{version}/{profile}/{coordinates}?destinations=0\"\n",
    "\n",
    "response = requests.get(url)\n",
    "response.status_code"
   ]
  },
  {
   "cell_type": "code",
   "execution_count": 29,
   "metadata": {},
   "outputs": [
    {
     "data": {
      "text/plain": [
       "[[0], [254.9], [303]]"
      ]
     },
     "execution_count": 29,
     "metadata": {},
     "output_type": "execute_result"
    }
   ],
   "source": [
    "data = response.json()\n",
    "data[\"durations\"]"
   ]
  },
  {
   "cell_type": "markdown",
   "metadata": {},
   "source": [
    "The table shows the travel duration to **Point 1** (destination) from each of the three points (sources). The rows represent the **sources**, and the single column represents the **destination** (Point 1).\n",
    "\n",
    "| Source \\ Destination | Point 1 |\n",
    "|-----------------------|---------|\n",
    "| **Point 1**          | 0       |\n",
    "| **Point 2**          | 254.9   |\n",
    "| **Point 3**          | 303     |"
   ]
  },
  {
   "cell_type": "markdown",
   "metadata": {},
   "source": [
    "#### <a id='toc1_2_2_4_'></a>[With source & With destination](#toc0_)"
   ]
  },
  {
   "cell_type": "markdown",
   "metadata": {},
   "source": [
    "Finally, we can use both options together"
   ]
  },
  {
   "cell_type": "code",
   "execution_count": 30,
   "metadata": {},
   "outputs": [
    {
     "data": {
      "text/plain": [
       "200"
      ]
     },
     "execution_count": 30,
     "metadata": {},
     "output_type": "execute_result"
    }
   ],
   "source": [
    "import requests\n",
    "\n",
    "points = [point_1, point_2, point_3]\n",
    "coordinates = ';'.join(\n",
    "    [f'{point.longitude},{point.latitude}' for point in points])\n",
    "\n",
    "url = f\"{host}/{service}/{version}/{profile}/{coordinates}?sources=0&destinations=2\"\n",
    "\n",
    "response = requests.get(url)\n",
    "response.status_code"
   ]
  },
  {
   "cell_type": "markdown",
   "metadata": {},
   "source": [
    "This time, we get only one duration in the end."
   ]
  },
  {
   "cell_type": "code",
   "execution_count": 31,
   "metadata": {},
   "outputs": [
    {
     "data": {
      "text/plain": [
       "[[300.5]]"
      ]
     },
     "execution_count": 31,
     "metadata": {},
     "output_type": "execute_result"
    }
   ],
   "source": [
    "data = response.json()\n",
    "data[\"durations\"]"
   ]
  }
 ],
 "metadata": {
  "kernelspec": {
   "display_name": "vehicle_routing_problem",
   "language": "python",
   "name": "python3"
  },
  "language_info": {
   "codemirror_mode": {
    "name": "ipython",
    "version": 3
   },
   "file_extension": ".py",
   "mimetype": "text/x-python",
   "name": "python",
   "nbconvert_exporter": "python",
   "pygments_lexer": "ipython3",
   "version": "3.12.7"
  }
 },
 "nbformat": 4,
 "nbformat_minor": 2
}
